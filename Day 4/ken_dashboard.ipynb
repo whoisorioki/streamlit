{
 "cells": [
  {
   "cell_type": "code",
   "execution_count": 2,
   "metadata": {},
   "outputs": [],
   "source": [
    "# Import libraries\n",
    "import pandas as pd\n",
    "import numpy as np\n",
    "import plotly.graph_objects as go\n",
    "import plotly.express as px\n",
    "import streamlit as st\n",
    "from datetime import datetime"
   ]
  },
  {
   "cell_type": "code",
   "execution_count": 8,
   "metadata": {},
   "outputs": [],
   "source": [
    "def load_data():\n",
    "    df_agg = pd.read_csv('csv/Aggregated_Metrics_By_Video.csv').iloc[1:,:] # Skipped the first row(integer location)\n",
    "    df_agg.columns = ['Video','Video title','Video publish time','Comments added','Shares','Dislikes','Likes',\n",
    "                      'Subscribers lost','Subscribers gained','RPM(USD)','CPM(USD)','Average % viewed','Average view duration',\n",
    "                      'Views','Watch time (hours)','Subscribers','Your estimated revenue (USD)','Impressions','Impressions ctr(%)']\n",
    "    df_agg['Video publish time'] = pd.to_datetime(df_agg['Video publish time'])\n",
    "    df_agg['Average view duration'] = df_agg['Average view duration'].apply(lambda x: datetime.strptime(x,'%H:%M:%S'))\n",
    "    df_agg['Avg_duration_sec'] = df_agg['Average view duration'].apply(lambda x: x.second + x.minute*60 + x.hour*3600)\n",
    "    df_agg['Engagement_ratio'] =  (df_agg['Comments added'] + df_agg['Shares'] +df_agg['Dislikes'] + df_agg['Likes']) /df_agg.Views\n",
    "    df_agg['Views / sub gained'] = df_agg['Views'] / df_agg['Subscribers gained']\n",
    "    df_agg.sort_values('Video publish time', ascending = False, inplace = True)  \n",
    "    df_agg_sub = pd.read_csv('csv/Aggregated_Metrics_By_Country_And_Subscriber_Status.csv')\n",
    "    df_comments = pd.read_csv('csv/Aggregated_Metrics_By_Video.csv')\n",
    "    df_time = pd.read_csv('csv/Video_Performance_Over_Time.csv')\n",
    "    df_time['Date'] = pd.to_datetime(df_time['Date'])\n",
    "    return df_agg, df_agg_sub, df_comments, df_time \n"
   ]
  }
 ],
 "metadata": {
  "kernelspec": {
   "display_name": "stenv",
   "language": "python",
   "name": "python3"
  },
  "language_info": {
   "codemirror_mode": {
    "name": "ipython",
    "version": 3
   },
   "file_extension": ".py",
   "mimetype": "text/x-python",
   "name": "python",
   "nbconvert_exporter": "python",
   "pygments_lexer": "ipython3",
   "version": "3.9.16"
  },
  "orig_nbformat": 4
 },
 "nbformat": 4,
 "nbformat_minor": 2
}
